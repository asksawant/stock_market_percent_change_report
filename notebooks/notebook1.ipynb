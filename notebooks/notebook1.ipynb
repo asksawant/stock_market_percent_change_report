{
 "cells": [
  {
   "cell_type": "code",
   "execution_count": 9,
   "metadata": {},
   "outputs": [],
   "source": [
    "import requests\n",
    "import pandas as pd\n",
    "from requests_html import HTMLSession"
   ]
  },
  {
   "cell_type": "code",
   "execution_count": null,
   "metadata": {},
   "outputs": [],
   "source": [
    "# sector_index = {\n",
    "#     'NIFTY 50' : 'NIFTY%2050',\n",
    "#     'NIFTY NEXT 50' : 'NIFTY%20NEXT%2050',\n",
    "#     'NIFTY MIDCAP 50' : 'NIFTY%20MIDCAP%2050',\n",
    "#     'NIFTY AUTO' : 'NIFTY%20AUTO',\n",
    "#     'NIFTY BANK' : 'NIFTY%20BANK',\n",
    "#     'NIFTY ENERGY' : 'NIFTY%20ENERGY',\n",
    "#     'NIFTY FINANCIAL SERVICES' : 'NIFTY%20FINANCIAL%20SERVICES',\n",
    "#     'NIFTY FMCG' : 'NIFTY%20FMCG',\n",
    "#     'NIFTY IT' : 'NIFTY%20IT',\n",
    "#     'NIFTY MEDIA' : 'NIFTY%20MEDIA',\n",
    "#     'NIFTY METAL' : 'NIFTY%20METAL',\n",
    "#     'NIFTY PHARMA': 'NIFTY%20PHARMA',\n",
    "#     'NIFTY PSU BANK' : 'NIFTY%20PSU%20BANK',\n",
    "#     'NIFTY REALITY' : 'NIFTY%20REALTY',\n",
    "#     'NIFTY PRIVATE BANK' : 'NIFTY%20PRIVATE%20BANK',\n",
    "#     'NIFTY HEALTHCARE' : 'NIFTY%20HEALTHCARE%20INDEX',\n",
    "#     'NIFTY CONSUMER DURABLES' : 'NIFTY%20CONSUMER%20DURABLES',\n",
    "#     'NIFTY OIL & GAS' : 'NIFTY%20OIL%20%26%20GAS',\n",
    "#     'NIFTY COMMODITIES' : 'NIFTY%20COMMODITIES',\n",
    "#     'NIFTY INDIAN CONSUMPTION' : 'NIFTY%20INDIA%20CONSUMPTION',\n",
    "#     'NIFTY CPSE' : 'NIFTY%20CPSE',\n",
    "#     'NIFTY INFRA' : 'NIFTY%20INFRASTRUCTURE',\n",
    "#     'NIFTY MNC' : 'NIFTY%20MNC',\n",
    "#     'NIFTY PSE' : 'NIFTY%20PSE',\n",
    "#     'NIFTY SERVICE' : 'NIFTY%20SERVICES%20SECTOR'\n",
    "# }"
   ]
  },
  {
   "cell_type": "code",
   "execution_count": 10,
   "metadata": {},
   "outputs": [
    {
     "data": {
      "text/plain": [
       "<Response [200]>"
      ]
     },
     "execution_count": 10,
     "metadata": {},
     "output_type": "execute_result"
    }
   ],
   "source": [
    "sector_live_data_url = 'https://www.nseindia.com/api/equity-stockIndices?index=NIFTY%2050'\n",
    "\n",
    "# Creating a session object\n",
    "session = HTMLSession()\n",
    "\n",
    "# Make a GET request to the website to obtain the initial cookie\n",
    "response = session.get('https://www.nseindia.com')\n",
    "\n",
    "# Extract the cookie value from the response\n",
    "cookie_value = session.cookies.get('cookie_name')\n",
    "\n",
    "headers = {\n",
    "    'Referer': 'https://www.nseindia.com',\n",
    "    'Cookie': f'cookie_name={cookie_value}',\n",
    "    'User-Agent':'Mozilla/5.0 (Windows NT 10.0; Win64; x64) AppleWebKit/537.36 (KHTML, like Gecko) Chrome/114.0.0.0 Safari/537.36'\n",
    "}\n",
    "\n",
    "response = session.get(sector_live_data_url)\n",
    "response"
   ]
  },
  {
   "cell_type": "code",
   "execution_count": 12,
   "metadata": {},
   "outputs": [
    {
     "data": {
      "text/html": [
       "<div>\n",
       "<style scoped>\n",
       "    .dataframe tbody tr th:only-of-type {\n",
       "        vertical-align: middle;\n",
       "    }\n",
       "\n",
       "    .dataframe tbody tr th {\n",
       "        vertical-align: top;\n",
       "    }\n",
       "\n",
       "    .dataframe thead th {\n",
       "        text-align: right;\n",
       "    }\n",
       "</style>\n",
       "<table border=\"1\" class=\"dataframe\">\n",
       "  <thead>\n",
       "    <tr style=\"text-align: right;\">\n",
       "      <th></th>\n",
       "      <th>priority</th>\n",
       "      <th>symbol</th>\n",
       "    </tr>\n",
       "  </thead>\n",
       "  <tbody>\n",
       "    <tr>\n",
       "      <th>0</th>\n",
       "      <td>1</td>\n",
       "      <td>NIFTY 50</td>\n",
       "    </tr>\n",
       "    <tr>\n",
       "      <th>1</th>\n",
       "      <td>0</td>\n",
       "      <td>GRASIM</td>\n",
       "    </tr>\n",
       "    <tr>\n",
       "      <th>2</th>\n",
       "      <td>0</td>\n",
       "      <td>BPCL</td>\n",
       "    </tr>\n",
       "    <tr>\n",
       "      <th>3</th>\n",
       "      <td>0</td>\n",
       "      <td>HDFC</td>\n",
       "    </tr>\n",
       "    <tr>\n",
       "      <th>4</th>\n",
       "      <td>0</td>\n",
       "      <td>RELIANCE</td>\n",
       "    </tr>\n",
       "  </tbody>\n",
       "</table>\n",
       "</div>"
      ],
      "text/plain": [
       "   priority    symbol\n",
       "0         1  NIFTY 50\n",
       "1         0    GRASIM\n",
       "2         0      BPCL\n",
       "3         0      HDFC\n",
       "4         0  RELIANCE"
      ]
     },
     "execution_count": 12,
     "metadata": {},
     "output_type": "execute_result"
    }
   ],
   "source": [
    "df = pd.DataFrame(response.json()['data'])[['priority','symbol']]\n",
    "df.head(5)"
   ]
  },
  {
   "cell_type": "code",
   "execution_count": 13,
   "metadata": {},
   "outputs": [
    {
     "data": {
      "text/html": [
       "<div>\n",
       "<style scoped>\n",
       "    .dataframe tbody tr th:only-of-type {\n",
       "        vertical-align: middle;\n",
       "    }\n",
       "\n",
       "    .dataframe tbody tr th {\n",
       "        vertical-align: top;\n",
       "    }\n",
       "\n",
       "    .dataframe thead th {\n",
       "        text-align: right;\n",
       "    }\n",
       "</style>\n",
       "<table border=\"1\" class=\"dataframe\">\n",
       "  <thead>\n",
       "    <tr style=\"text-align: right;\">\n",
       "      <th></th>\n",
       "      <th>priority</th>\n",
       "      <th>symbol</th>\n",
       "    </tr>\n",
       "  </thead>\n",
       "  <tbody>\n",
       "    <tr>\n",
       "      <th>1</th>\n",
       "      <td>0</td>\n",
       "      <td>GRASIM</td>\n",
       "    </tr>\n",
       "    <tr>\n",
       "      <th>2</th>\n",
       "      <td>0</td>\n",
       "      <td>BPCL</td>\n",
       "    </tr>\n",
       "    <tr>\n",
       "      <th>3</th>\n",
       "      <td>0</td>\n",
       "      <td>HDFC</td>\n",
       "    </tr>\n",
       "    <tr>\n",
       "      <th>4</th>\n",
       "      <td>0</td>\n",
       "      <td>RELIANCE</td>\n",
       "    </tr>\n",
       "    <tr>\n",
       "      <th>5</th>\n",
       "      <td>0</td>\n",
       "      <td>SBIN</td>\n",
       "    </tr>\n",
       "  </tbody>\n",
       "</table>\n",
       "</div>"
      ],
      "text/plain": [
       "   priority    symbol\n",
       "1         0    GRASIM\n",
       "2         0      BPCL\n",
       "3         0      HDFC\n",
       "4         0  RELIANCE\n",
       "5         0      SBIN"
      ]
     },
     "execution_count": 13,
     "metadata": {},
     "output_type": "execute_result"
    }
   ],
   "source": [
    "df1 = df[df['priority'] != 1]\n",
    "df1.head(5)"
   ]
  },
  {
   "cell_type": "code",
   "execution_count": 14,
   "metadata": {},
   "outputs": [
    {
     "data": {
      "text/html": [
       "<div>\n",
       "<style scoped>\n",
       "    .dataframe tbody tr th:only-of-type {\n",
       "        vertical-align: middle;\n",
       "    }\n",
       "\n",
       "    .dataframe tbody tr th {\n",
       "        vertical-align: top;\n",
       "    }\n",
       "\n",
       "    .dataframe thead th {\n",
       "        text-align: right;\n",
       "    }\n",
       "</style>\n",
       "<table border=\"1\" class=\"dataframe\">\n",
       "  <thead>\n",
       "    <tr style=\"text-align: right;\">\n",
       "      <th></th>\n",
       "      <th>symbol</th>\n",
       "    </tr>\n",
       "  </thead>\n",
       "  <tbody>\n",
       "    <tr>\n",
       "      <th>1</th>\n",
       "      <td>GRASIM</td>\n",
       "    </tr>\n",
       "    <tr>\n",
       "      <th>2</th>\n",
       "      <td>BPCL</td>\n",
       "    </tr>\n",
       "    <tr>\n",
       "      <th>3</th>\n",
       "      <td>HDFC</td>\n",
       "    </tr>\n",
       "    <tr>\n",
       "      <th>4</th>\n",
       "      <td>RELIANCE</td>\n",
       "    </tr>\n",
       "    <tr>\n",
       "      <th>5</th>\n",
       "      <td>SBIN</td>\n",
       "    </tr>\n",
       "  </tbody>\n",
       "</table>\n",
       "</div>"
      ],
      "text/plain": [
       "     symbol\n",
       "1    GRASIM\n",
       "2      BPCL\n",
       "3      HDFC\n",
       "4  RELIANCE\n",
       "5      SBIN"
      ]
     },
     "execution_count": 14,
     "metadata": {},
     "output_type": "execute_result"
    }
   ],
   "source": [
    "df2 = df1.drop(['priority'],axis=1)\n",
    "df2.head(5)"
   ]
  },
  {
   "cell_type": "code",
   "execution_count": 15,
   "metadata": {},
   "outputs": [],
   "source": [
    "df2['SECTOR'] = 'NIFTY 50'"
   ]
  },
  {
   "cell_type": "code",
   "execution_count": 16,
   "metadata": {},
   "outputs": [
    {
     "data": {
      "text/html": [
       "<div>\n",
       "<style scoped>\n",
       "    .dataframe tbody tr th:only-of-type {\n",
       "        vertical-align: middle;\n",
       "    }\n",
       "\n",
       "    .dataframe tbody tr th {\n",
       "        vertical-align: top;\n",
       "    }\n",
       "\n",
       "    .dataframe thead th {\n",
       "        text-align: right;\n",
       "    }\n",
       "</style>\n",
       "<table border=\"1\" class=\"dataframe\">\n",
       "  <thead>\n",
       "    <tr style=\"text-align: right;\">\n",
       "      <th></th>\n",
       "      <th>SYMBOL</th>\n",
       "      <th>SECTOR</th>\n",
       "    </tr>\n",
       "  </thead>\n",
       "  <tbody>\n",
       "    <tr>\n",
       "      <th>1</th>\n",
       "      <td>GRASIM</td>\n",
       "      <td>NIFTY 50</td>\n",
       "    </tr>\n",
       "    <tr>\n",
       "      <th>2</th>\n",
       "      <td>BPCL</td>\n",
       "      <td>NIFTY 50</td>\n",
       "    </tr>\n",
       "    <tr>\n",
       "      <th>3</th>\n",
       "      <td>HDFC</td>\n",
       "      <td>NIFTY 50</td>\n",
       "    </tr>\n",
       "    <tr>\n",
       "      <th>4</th>\n",
       "      <td>RELIANCE</td>\n",
       "      <td>NIFTY 50</td>\n",
       "    </tr>\n",
       "    <tr>\n",
       "      <th>5</th>\n",
       "      <td>SBIN</td>\n",
       "      <td>NIFTY 50</td>\n",
       "    </tr>\n",
       "  </tbody>\n",
       "</table>\n",
       "</div>"
      ],
      "text/plain": [
       "     SYMBOL    SECTOR\n",
       "1    GRASIM  NIFTY 50\n",
       "2      BPCL  NIFTY 50\n",
       "3      HDFC  NIFTY 50\n",
       "4  RELIANCE  NIFTY 50\n",
       "5      SBIN  NIFTY 50"
      ]
     },
     "execution_count": 16,
     "metadata": {},
     "output_type": "execute_result"
    }
   ],
   "source": [
    "df2 = df2.rename(columns={'symbol':'SYMBOL'})\n",
    "df2.head(5)"
   ]
  }
 ],
 "metadata": {
  "kernelspec": {
   "display_name": "base",
   "language": "python",
   "name": "python3"
  },
  "language_info": {
   "codemirror_mode": {
    "name": "ipython",
    "version": 3
   },
   "file_extension": ".py",
   "mimetype": "text/x-python",
   "name": "python",
   "nbconvert_exporter": "python",
   "pygments_lexer": "ipython3",
   "version": "3.9.16"
  },
  "orig_nbformat": 4,
  "vscode": {
   "interpreter": {
    "hash": "2fa535fe605f077fee2980c692a4ee382605732aa0b21e5717381eab65cc99c1"
   }
  }
 },
 "nbformat": 4,
 "nbformat_minor": 2
}
