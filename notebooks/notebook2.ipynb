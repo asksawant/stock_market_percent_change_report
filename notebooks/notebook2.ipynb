{
 "cells": [
  {
   "cell_type": "code",
   "execution_count": 1,
   "metadata": {},
   "outputs": [],
   "source": [
    "import requests\n",
    "import pandas as pd\n",
    "from requests_html import HTMLSession\n",
    "import datetime"
   ]
  },
  {
   "cell_type": "code",
   "execution_count": 2,
   "metadata": {},
   "outputs": [],
   "source": [
    "sector_index = {\n",
    "    'NIFTY 50' : 'NIFTY%2050',\n",
    "    'NIFTY NEXT 50' : 'NIFTY%20NEXT%2050'\n",
    "}"
   ]
  },
  {
   "cell_type": "code",
   "execution_count": 3,
   "metadata": {},
   "outputs": [],
   "source": [
    "# Creating a session object\n",
    "session = HTMLSession()\n",
    "\n",
    "# Make a GET request to the website to obtain the initial cookie\n",
    "response = session.get('https://www.nseindia.com')\n",
    "\n",
    "# Extract the cookie value from the response\n",
    "cookie_value = session.cookies.get('cookie_name')\n",
    "\n",
    "headers = {\n",
    "    'Referer': 'https://www.nseindia.com',\n",
    "    'Cookie': f'cookie_name={cookie_value}',\n",
    "    'User-Agent':'Mozilla/5.0 (Windows NT 10.0; Win64; x64) AppleWebKit/537.36 (KHTML, like Gecko) Chrome/114.0.0.0 Safari/537.36'\n",
    "}"
   ]
  },
  {
   "cell_type": "code",
   "execution_count": 20,
   "metadata": {},
   "outputs": [],
   "source": [
    "# Creating a empty dataframe\n",
    "combined_df = pd.DataFrame()\n",
    "\n",
    "for sector_name,sector_index_value in sector_index.items():\n",
    "    \n",
    "    sector_live_data_url = f'https://www.nseindia.com/api/equity-stockIndices?index={sector_index_value}'\n",
    "\n",
    "    response = session.get(sector_live_data_url)\n",
    "    \n",
    "    df = pd.DataFrame(response.json()['data'])[['priority','symbol']]\n",
    "\n",
    "    # Removing the Sector Name Row from the dataframe\n",
    "    df = df[df['priority'] != 1]\n",
    "\n",
    "    # Removing the priority column from the dataframe\n",
    "    df = df.drop(['priority'],axis=1)\n",
    "\n",
    "    # Creating new column and assigning the name of the sector\n",
    "    df['SECTOR'] = sector_name\n",
    "\n",
    "    # Renaming the column name\n",
    "    df = df.rename(columns={'symbol':'SYMBOL'})\n",
    "\n",
    "    combined_df = pd.concat([combined_df, df], ignore_index=True)"
   ]
  },
  {
   "cell_type": "code",
   "execution_count": 21,
   "metadata": {},
   "outputs": [
    {
     "data": {
      "text/html": [
       "<div>\n",
       "<style scoped>\n",
       "    .dataframe tbody tr th:only-of-type {\n",
       "        vertical-align: middle;\n",
       "    }\n",
       "\n",
       "    .dataframe tbody tr th {\n",
       "        vertical-align: top;\n",
       "    }\n",
       "\n",
       "    .dataframe thead th {\n",
       "        text-align: right;\n",
       "    }\n",
       "</style>\n",
       "<table border=\"1\" class=\"dataframe\">\n",
       "  <thead>\n",
       "    <tr style=\"text-align: right;\">\n",
       "      <th></th>\n",
       "      <th>SYMBOL</th>\n",
       "      <th>SECTOR</th>\n",
       "    </tr>\n",
       "  </thead>\n",
       "  <tbody>\n",
       "    <tr>\n",
       "      <th>0</th>\n",
       "      <td>GRASIM</td>\n",
       "      <td>NIFTY 50</td>\n",
       "    </tr>\n",
       "    <tr>\n",
       "      <th>1</th>\n",
       "      <td>ITC</td>\n",
       "      <td>NIFTY 50</td>\n",
       "    </tr>\n",
       "    <tr>\n",
       "      <th>2</th>\n",
       "      <td>BPCL</td>\n",
       "      <td>NIFTY 50</td>\n",
       "    </tr>\n",
       "    <tr>\n",
       "      <th>3</th>\n",
       "      <td>BAJFINANCE</td>\n",
       "      <td>NIFTY 50</td>\n",
       "    </tr>\n",
       "    <tr>\n",
       "      <th>4</th>\n",
       "      <td>RELIANCE</td>\n",
       "      <td>NIFTY 50</td>\n",
       "    </tr>\n",
       "  </tbody>\n",
       "</table>\n",
       "</div>"
      ],
      "text/plain": [
       "       SYMBOL    SECTOR\n",
       "0      GRASIM  NIFTY 50\n",
       "1         ITC  NIFTY 50\n",
       "2        BPCL  NIFTY 50\n",
       "3  BAJFINANCE  NIFTY 50\n",
       "4    RELIANCE  NIFTY 50"
      ]
     },
     "execution_count": 21,
     "metadata": {},
     "output_type": "execute_result"
    }
   ],
   "source": [
    "combined_df.head()"
   ]
  },
  {
   "cell_type": "code",
   "execution_count": 22,
   "metadata": {},
   "outputs": [],
   "source": [
    "security_full_bhavdata_url = 'https://archives.nseindia.com/products/content/sec_bhavdata_full_30062023.csv'"
   ]
  },
  {
   "cell_type": "code",
   "execution_count": 23,
   "metadata": {},
   "outputs": [
    {
     "data": {
      "text/plain": [
       "<Response [200]>"
      ]
     },
     "execution_count": 23,
     "metadata": {},
     "output_type": "execute_result"
    }
   ],
   "source": [
    "response = session.get(security_full_bhavdata_url)\n",
    "response"
   ]
  },
  {
   "cell_type": "code",
   "execution_count": 24,
   "metadata": {},
   "outputs": [
    {
     "data": {
      "text/plain": [
       "'data/sec_bhavdata_full/sec_bhavdata_full_30062023.csv'"
      ]
     },
     "execution_count": 24,
     "metadata": {},
     "output_type": "execute_result"
    }
   ],
   "source": [
    "bhavdata_filename = response.url[security_full_bhavdata_url.rfind('/')+1:]\n",
    "bhavdata_file_path = 'data/sec_bhavdata_full/' + bhavdata_filename\n",
    "bhavdata_file_path"
   ]
  },
  {
   "cell_type": "code",
   "execution_count": 25,
   "metadata": {},
   "outputs": [],
   "source": [
    "# with open(bhavdata_filename, 'wb') as f:\n",
    "#     f.write(response.content)"
   ]
  },
  {
   "cell_type": "code",
   "execution_count": 5,
   "metadata": {},
   "outputs": [
    {
     "data": {
      "text/plain": [
       "<Response [200]>"
      ]
     },
     "execution_count": 5,
     "metadata": {},
     "output_type": "execute_result"
    }
   ],
   "source": [
    "trading_holiday_url = 'https://www.nseindia.com/api/holiday-master?type=trading'\n",
    "response = session.get(trading_holiday_url)\n",
    "response"
   ]
  },
  {
   "cell_type": "code",
   "execution_count": 6,
   "metadata": {},
   "outputs": [
    {
     "data": {
      "text/html": [
       "<div>\n",
       "<style scoped>\n",
       "    .dataframe tbody tr th:only-of-type {\n",
       "        vertical-align: middle;\n",
       "    }\n",
       "\n",
       "    .dataframe tbody tr th {\n",
       "        vertical-align: top;\n",
       "    }\n",
       "\n",
       "    .dataframe thead th {\n",
       "        text-align: right;\n",
       "    }\n",
       "</style>\n",
       "<table border=\"1\" class=\"dataframe\">\n",
       "  <thead>\n",
       "    <tr style=\"text-align: right;\">\n",
       "      <th></th>\n",
       "      <th>HolidayDate</th>\n",
       "      <th>weekDay</th>\n",
       "    </tr>\n",
       "  </thead>\n",
       "  <tbody>\n",
       "    <tr>\n",
       "      <th>0</th>\n",
       "      <td>26-Jan-2023</td>\n",
       "      <td>Thursday</td>\n",
       "    </tr>\n",
       "    <tr>\n",
       "      <th>1</th>\n",
       "      <td>18-Feb-2023</td>\n",
       "      <td>Saturday</td>\n",
       "    </tr>\n",
       "    <tr>\n",
       "      <th>2</th>\n",
       "      <td>07-Mar-2023</td>\n",
       "      <td>Tuesday</td>\n",
       "    </tr>\n",
       "    <tr>\n",
       "      <th>3</th>\n",
       "      <td>30-Mar-2023</td>\n",
       "      <td>Thursday</td>\n",
       "    </tr>\n",
       "    <tr>\n",
       "      <th>4</th>\n",
       "      <td>04-Apr-2023</td>\n",
       "      <td>Tuesday</td>\n",
       "    </tr>\n",
       "  </tbody>\n",
       "</table>\n",
       "</div>"
      ],
      "text/plain": [
       "   HolidayDate   weekDay\n",
       "0  26-Jan-2023  Thursday\n",
       "1  18-Feb-2023  Saturday\n",
       "2  07-Mar-2023   Tuesday\n",
       "3  30-Mar-2023  Thursday\n",
       "4  04-Apr-2023   Tuesday"
      ]
     },
     "execution_count": 6,
     "metadata": {},
     "output_type": "execute_result"
    }
   ],
   "source": [
    "data = response.json().get('CM',[])\n",
    "data\n",
    "df = pd.DataFrame(data,columns=['tradingDate', 'weekDay'])\n",
    "df = df.rename(columns ={'tradingDate':'HolidayDate'})\n",
    "df.head()"
   ]
  },
  {
   "cell_type": "code",
   "execution_count": 28,
   "metadata": {},
   "outputs": [
    {
     "data": {
      "text/plain": [
       "HolidayDate    datetime64[ns]\n",
       "weekDay                object\n",
       "dtype: object"
      ]
     },
     "execution_count": 28,
     "metadata": {},
     "output_type": "execute_result"
    }
   ],
   "source": [
    "df['HolidayDate'] = df['HolidayDate'].str.strip()\n",
    "# Convert column to datetime\n",
    "df['HolidayDate'] = pd.to_datetime(df['HolidayDate'], format='%d-%b-%Y')\n",
    "# df['HolidayDate'] = df['HolidayDate'].dt.strftime('%d-%m-%Y')\n",
    "df.dtypes"
   ]
  },
  {
   "cell_type": "code",
   "execution_count": 29,
   "metadata": {},
   "outputs": [
    {
     "data": {
      "text/plain": [
       "'04-Jul-2023'"
      ]
     },
     "execution_count": 29,
     "metadata": {},
     "output_type": "execute_result"
    }
   ],
   "source": [
    "today = datetime.datetime.now().strftime('%d-%b-%Y')\n",
    "today"
   ]
  },
  {
   "cell_type": "code",
   "execution_count": 30,
   "metadata": {},
   "outputs": [
    {
     "data": {
      "text/plain": [
       "datetime.datetime(2023, 7, 4, 6, 33, 27, 873002)"
      ]
     },
     "execution_count": 30,
     "metadata": {},
     "output_type": "execute_result"
    }
   ],
   "source": [
    "current_date = datetime.datetime.now()\n",
    "current_date"
   ]
  },
  {
   "cell_type": "code",
   "execution_count": 31,
   "metadata": {},
   "outputs": [
    {
     "data": {
      "text/plain": [
       "datetime.timedelta(days=1)"
      ]
     },
     "execution_count": 31,
     "metadata": {},
     "output_type": "execute_result"
    }
   ],
   "source": [
    "one_day = datetime.timedelta(days=1)\n",
    "one_day"
   ]
  },
  {
   "cell_type": "code",
   "execution_count": 32,
   "metadata": {},
   "outputs": [],
   "source": [
    "previous_day = current_date - one_day"
   ]
  },
  {
   "cell_type": "code",
   "execution_count": 33,
   "metadata": {},
   "outputs": [
    {
     "data": {
      "text/plain": [
       "datetime.datetime(2023, 7, 3, 6, 33, 27, 873002)"
      ]
     },
     "execution_count": 33,
     "metadata": {},
     "output_type": "execute_result"
    }
   ],
   "source": [
    "previous_day"
   ]
  },
  {
   "cell_type": "code",
   "execution_count": 38,
   "metadata": {},
   "outputs": [
    {
     "data": {
      "text/plain": [
       "'020723'"
      ]
     },
     "execution_count": 38,
     "metadata": {},
     "output_type": "execute_result"
    }
   ],
   "source": [
    "previous_trading_day = pd.to_datetime('02-Jul-2023')\n",
    "previous_trading_day = previous_trading_day.strftime(\"%d-%m-%y\").replace(\"-\", \"\")\n",
    "# previous_trading_day.replace(\"-\", \"\")\n",
    "previous_trading_day"
   ]
  },
  {
   "cell_type": "code",
   "execution_count": null,
   "metadata": {},
   "outputs": [],
   "source": []
  }
 ],
 "metadata": {
  "kernelspec": {
   "display_name": "base",
   "language": "python",
   "name": "python3"
  },
  "language_info": {
   "codemirror_mode": {
    "name": "ipython",
    "version": 3
   },
   "file_extension": ".py",
   "mimetype": "text/x-python",
   "name": "python",
   "nbconvert_exporter": "python",
   "pygments_lexer": "ipython3",
   "version": "3.9.16"
  },
  "orig_nbformat": 4,
  "vscode": {
   "interpreter": {
    "hash": "2fa535fe605f077fee2980c692a4ee382605732aa0b21e5717381eab65cc99c1"
   }
  }
 },
 "nbformat": 4,
 "nbformat_minor": 2
}
